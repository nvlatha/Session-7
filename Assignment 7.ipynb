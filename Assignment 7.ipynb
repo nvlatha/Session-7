{
 "cells": [
  {
   "cell_type": "code",
   "execution_count": 44,
   "metadata": {},
   "outputs": [],
   "source": [
    "#Assignment 7\n",
    "#Given a sequence of n values x1, x2, ..., xn and a window size k>0, the k-th moving\n",
    "#average of the given sequence is defined as follows:\n",
    "#The moving average sequence has n-k+1 elements as shown below.\n",
    "#The moving averages with k=4 of a ten-value sequence (n=10) is shown below\n",
    "\n",
    "# Import pandas\n",
    "import pandas as pd\n",
    "def moving_avg(data_list):\n",
    "\n",
    "   # Create dataframe\n",
    "    df_input = pd.DataFrame(data_list)\n",
    "    # View dataframe\n",
    "    # Calculate the moving average. window will define the moving average period\n",
    "    # move the result again into dataframe\n",
    "    df_result= pd.DataFrame(df_input.rolling(window=3).mean())\n",
    "    print(\"The moving average :\" ,df_result)\n",
    "    return \n"
   ]
  },
  {
   "cell_type": "code",
   "execution_count": 45,
   "metadata": {},
   "outputs": [
    {
     "name": "stdout",
     "output_type": "stream",
     "text": [
      "The moving average :              0\n",
      "0          NaN\n",
      "1          NaN\n",
      "2     5.000000\n",
      "3     4.666667\n",
      "4     5.666667\n",
      "5     6.666667\n",
      "6     9.666667\n",
      "7    28.666667\n",
      "8    49.333333\n",
      "9    72.666667\n",
      "10   84.000000\n",
      "11   93.333333\n",
      "12  116.333333\n"
     ]
    }
   ],
   "source": [
    "#moving_avg([1,2,3,4,5, 6,7,8,9,10])\n",
    "moving_avg([3, 5, 7, 2, 8, 10, 11, 65, 72, 81, 99, 100, 150])"
   ]
  },
  {
   "cell_type": "code",
   "execution_count": null,
   "metadata": {},
   "outputs": [],
   "source": []
  }
 ],
 "metadata": {
  "kernelspec": {
   "display_name": "Python 3",
   "language": "python",
   "name": "python3"
  },
  "language_info": {
   "codemirror_mode": {
    "name": "ipython",
    "version": 3
   },
   "file_extension": ".py",
   "mimetype": "text/x-python",
   "name": "python",
   "nbconvert_exporter": "python",
   "pygments_lexer": "ipython3",
   "version": "3.7.0"
  }
 },
 "nbformat": 4,
 "nbformat_minor": 2
}
